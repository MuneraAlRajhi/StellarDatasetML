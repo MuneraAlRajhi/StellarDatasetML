{
 "cells": [
  {
   "cell_type": "code",
   "execution_count": null,
   "metadata": {},
   "outputs": [],
   "source": [
<<<<<<< HEAD
    "Hi"
=======
    "#testing"
>>>>>>> 95bcd407df93e1b5bd97b3ee4645e8d1ef34ac54
   ]
  }
 ],
 "metadata": {
  "language_info": {
<<<<<<< HEAD
   "name": "plaintext"
=======
   "name": "python"
>>>>>>> 95bcd407df93e1b5bd97b3ee4645e8d1ef34ac54
  },
  "orig_nbformat": 4
 },
 "nbformat": 4,
 "nbformat_minor": 2
}
