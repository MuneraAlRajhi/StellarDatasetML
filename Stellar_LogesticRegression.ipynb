{
 "cells": [
  {
   "cell_type": "code",
   "execution_count": 8,
   "metadata": {},
   "outputs": [],
   "source": [
    "# Helper packages\n",
    "import numpy as np\n",
    "import pandas as pd\n",
    "\n",
    "# Modeling packages\n",
    "from sklearn import linear_model\n",
    "from sklearn.model_selection import train_test_split\n",
    "from sklearn.linear_model import LogisticRegression\n",
    "from sklearn.linear_model import LogisticRegressionCV\n",
    "from sklearn.model_selection import cross_val_score\n",
    "from sklearn.model_selection import GridSearchCV\n",
    "from sklearn.preprocessing import StandardScaler\n",
    "from sklearn.metrics import confusion_matrix\n",
    "from sklearn.metrics import ConfusionMatrixDisplay\n",
    "from sklearn.metrics import classification_report\n",
    "from sklearn import metrics\n"
   ]
  },
  {
   "cell_type": "code",
   "execution_count": 9,
   "metadata": {},
   "outputs": [],
   "source": [
    "df = pd.read_csv('/workspaces/all_in_one/team1proj/StellarDatasetML/data/stellar_eda.csv')"
   ]
  },
  {
   "cell_type": "code",
   "execution_count": 10,
   "metadata": {},
   "outputs": [
    {
     "name": "stdout",
     "output_type": "stream",
     "text": [
      "<class 'pandas.core.frame.DataFrame'>\n",
      "RangeIndex: 79999 entries, 0 to 79998\n",
      "Data columns (total 18 columns):\n",
      " #   Column       Non-Null Count  Dtype  \n",
      "---  ------       --------------  -----  \n",
      " 0   obj_ID       79999 non-null  float64\n",
      " 1   alpha        79999 non-null  float64\n",
      " 2   delta        79999 non-null  float64\n",
      " 3   u            79999 non-null  float64\n",
      " 4   g            79999 non-null  float64\n",
      " 5   r            79999 non-null  float64\n",
      " 6   i            79999 non-null  float64\n",
      " 7   z            79999 non-null  float64\n",
      " 8   run_ID       79999 non-null  int64  \n",
      " 9   rerun_ID     79999 non-null  int64  \n",
      " 10  cam_col      79999 non-null  int64  \n",
      " 11  field_ID     79999 non-null  int64  \n",
      " 12  spec_obj_ID  79999 non-null  float64\n",
      " 13  class        79999 non-null  object \n",
      " 14  redshift     79999 non-null  float64\n",
      " 15  plate        79999 non-null  int64  \n",
      " 16  MJD          79999 non-null  int64  \n",
      " 17  fiber_ID     79999 non-null  int64  \n",
      "dtypes: float64(10), int64(7), object(1)\n",
      "memory usage: 11.0+ MB\n"
     ]
    }
   ],
   "source": [
    "df.info()"
   ]
  },
  {
   "cell_type": "markdown",
   "metadata": {},
   "source": [
    "# Logistic Regression"
   ]
  },
  {
   "cell_type": "code",
   "execution_count": 11,
   "metadata": {},
   "outputs": [],
   "source": [
    "#creat a data split\n",
    "#List of all numarical columns that are going to be used in our modelling process\n",
    "column_list = ['u','g','r','i','z','redshift', 'alpha', 'delta', 'MJD']\n",
    "#defning the input and the output\n",
    "X = df[column_list]\n",
    "y = df[\"class\"]\n",
    "X_train, X_test, y_train, y_test = train_test_split(X, y, test_size = 0.3, random_state = 123)\n"
   ]
  },
  {
   "cell_type": "code",
   "execution_count": 12,
   "metadata": {},
   "outputs": [],
   "source": [
    "# Z-score\n",
    "scaler = StandardScaler()\n",
    "X_train = scaler.fit_transform(X_train)\n",
    "X_test = scaler.transform(X_test)"
   ]
  },
  {
   "cell_type": "code",
   "execution_count": 13,
   "metadata": {},
   "outputs": [
    {
     "name": "stdout",
     "output_type": "stream",
     "text": [
      "X_train dimension=  (55999, 9)\n",
      "X_test dimension=  (24000, 9)\n",
      "y_train dimension=  (55999,)\n",
      "y_train dimension=  (24000,)\n"
     ]
    }
   ],
   "source": [
    "print('X_train dimension= ', X_train.shape)\n",
    "print('X_test dimension= ', X_test.shape)\n",
    "print('y_train dimension= ', y_train.shape)\n",
    "print('y_train dimension= ', y_test.shape)"
   ]
  },
  {
   "cell_type": "markdown",
   "metadata": {},
   "source": [
    "## Fitting The Model"
   ]
  },
  {
   "cell_type": "code",
   "execution_count": 14,
   "metadata": {},
   "outputs": [
    {
     "data": {
      "text/plain": [
       "LogisticRegression(multi_class='ovr', solver='liblinear')"
      ]
     },
     "execution_count": 14,
     "metadata": {},
     "output_type": "execute_result"
    }
   ],
   "source": [
    "lm = linear_model.LogisticRegression(multi_class='ovr', solver='liblinear')\n",
    "lm.fit(X_train, y_train)\n"
   ]
  },
  {
   "cell_type": "code",
   "execution_count": 15,
   "metadata": {},
   "outputs": [],
   "source": [
    "# print('Predicted value is =', lm.predict([X_test[52]]))\n",
    "\n",
    "# print('Actual value from test data is %s' % (y_test[52]) )\n"
   ]
  },
  {
   "cell_type": "markdown",
   "id": "5bd22d5c-cadc-4d35-9f91-0478f69e1fe3",
   "metadata": {},
   "source": [
    "## Assessing model accuracy"
   ]
  },
  {
   "cell_type": "markdown",
   "metadata": {},
   "source": [
    "###   - Model Score"
   ]
  },
  {
   "cell_type": "code",
   "execution_count": 16,
   "metadata": {},
   "outputs": [
    {
     "data": {
      "text/plain": [
       "0.9332083333333333"
      ]
     },
     "execution_count": 16,
     "metadata": {},
     "output_type": "execute_result"
    }
   ],
   "source": [
    "lm.score(X_test, y_test)"
   ]
  },
  {
   "cell_type": "markdown",
   "metadata": {},
   "source": [
    "###   - Classification Report"
   ]
  },
  {
   "cell_type": "code",
   "execution_count": 17,
   "metadata": {},
   "outputs": [
    {
     "name": "stdout",
     "output_type": "stream",
     "text": [
      "              precision    recall  f1-score   support\n",
      "\n",
      "      GALAXY       0.94      0.95      0.94     14303\n",
      "         QSO       0.91      0.90      0.91      4542\n",
      "        STAR       0.93      0.91      0.92      5155\n",
      "\n",
      "    accuracy                           0.93     24000\n",
      "   macro avg       0.93      0.92      0.93     24000\n",
      "weighted avg       0.93      0.93      0.93     24000\n",
      "\n"
     ]
    }
   ],
   "source": [
    "print(metrics.classification_report(y_test, lm.predict(X_test)))"
   ]
  },
  {
   "cell_type": "markdown",
   "id": "7b4ed5ed-6539-4fbb-9cce-1db98492936f",
   "metadata": {},
   "source": [
    "### - Cross-validation performance"
   ]
  },
  {
   "cell_type": "code",
   "execution_count": 18,
   "metadata": {},
   "outputs": [
    {
     "data": {
      "text/plain": [
       "0.955"
      ]
     },
     "execution_count": 18,
     "metadata": {},
     "output_type": "execute_result"
    }
   ],
   "source": [
    "cv_lr = LogisticRegressionCV(\n",
    "  cv=5, \n",
    "  solver='liblinear',\n",
    "  multi_class='ovr',\n",
    "  random_state=123).fit(X_train, y_train)\n",
    "auc = cv_lr.score(X_train, y_train)\n",
    "round(auc, 3)\n"
   ]
  }
 ],
 "metadata": {
  "interpreter": {
   "hash": "d4d1e4263499bec80672ea0156c357c1ee493ec2b1c70f0acce89fc37c4a6abe"
  },
  "kernelspec": {
   "display_name": "Python 3.9.7 ('base')",
   "language": "python",
   "name": "python3"
  },
  "language_info": {
   "codemirror_mode": {
    "name": "ipython",
    "version": 3
   },
   "file_extension": ".py",
   "mimetype": "text/x-python",
   "name": "python",
   "nbconvert_exporter": "python",
   "pygments_lexer": "ipython3",
   "version": "3.9.7"
  },
  "orig_nbformat": 4
 },
 "nbformat": 4,
 "nbformat_minor": 2
}
