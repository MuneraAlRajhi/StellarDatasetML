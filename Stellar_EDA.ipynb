{
 "cells": [
  {
   "cell_type": "markdown",
   "metadata": {},
   "source": [
    "# **Stellar Dataset**\n",
    "\n",
    "### **Data Description:**\n",
    "In astronomy, stellar classification is the classification of stars based on their spectral characteristics. The classification scheme of galaxies, quasars, and stars is one of the most fundamental in astronomy. The early cataloguing of stars and their distribution in the sky has led to the understanding that they make up our own galaxy and, following the distinction that Andromeda was a separate galaxy to our own, numerous galaxies began to be surveyed as more powerful telescopes were built. This datasat aims to classificate stars, galaxies, and quasars based on their spectral characteristics.\n",
    "\n",
    "\n",
    "### **Data Content:**\n",
    "The data consists of observations of space taken by the SDSS (Sloan Digital Sky Survey). Every observation is described by 17 feature columns and 1 class column which identifies it to be either a star, galaxy or quasar.\n",
    "\n",
    "### **Data Dictionary:**\n",
    "- obj_ID = Object Identifier, the unique value that identifies the object in the image catalog used by the CAS\n",
    "- alpha = Right Ascension angle (at J2000 epoch)\n",
    "- delta = Declination angle (at J2000 epoch)\n",
    "- u = Ultraviolet filter in the photometric system\n",
    "- g = Green filter in the photometric system\n",
    "- r = Red filter in the photometric system\n",
    "- i = Near Infrared filter in the photometric system\n",
    "- z = Infrared filter in the photometric system\n",
    "- run_ID = Run Number used to identify the specific scan\n",
    "- rereun_ID = Rerun Number to specify how the image was processed\n",
    "- cam_col = Camera column to identify the scanline within the run\n",
    "- field_ID = Field number to identify each field\n",
    "- spec_obj_ID = Unique ID used for optical spectroscopic objects (this means that 2 different observations with the same spec_obj_ID must share the output class)\n",
    "- class = object class (galaxy, star or quasar object) << your target\n",
    "- redshift = redshift value based on the increase in wavelength\n",
    "- plate = plate ID, identifies each plate in SDSS\n",
    "- MJD = Modified Julian Date, used to indicate when a given piece of SDSS - - - data was taken\n",
    "- fiber_ID = fiber ID that identifies the fiber that pointed the light at the focal plane in each observation"
   ]
  },
  {
   "cell_type": "code",
   "execution_count": 21,
   "metadata": {},
   "outputs": [],
   "source": [
    "# import libraries\n",
    "import pandas as pd\n",
    "import numpy as np\n",
    "import matplotlib.pyplot as plt\n"
   ]
  },
  {
   "cell_type": "code",
   "execution_count": 22,
   "metadata": {},
   "outputs": [
    {
     "data": {
      "text/html": [
       "<div>\n",
       "<style scoped>\n",
       "    .dataframe tbody tr th:only-of-type {\n",
       "        vertical-align: middle;\n",
       "    }\n",
       "\n",
       "    .dataframe tbody tr th {\n",
       "        vertical-align: top;\n",
       "    }\n",
       "\n",
       "    .dataframe thead th {\n",
       "        text-align: right;\n",
       "    }\n",
       "</style>\n",
       "<table border=\"1\" class=\"dataframe\">\n",
       "  <thead>\n",
       "    <tr style=\"text-align: right;\">\n",
       "      <th></th>\n",
       "      <th>Unnamed: 0</th>\n",
       "      <th>obj_ID</th>\n",
       "      <th>alpha</th>\n",
       "      <th>delta</th>\n",
       "      <th>u</th>\n",
       "      <th>g</th>\n",
       "      <th>r</th>\n",
       "      <th>i</th>\n",
       "      <th>z</th>\n",
       "      <th>run_ID</th>\n",
       "      <th>rerun_ID</th>\n",
       "      <th>cam_col</th>\n",
       "      <th>field_ID</th>\n",
       "      <th>spec_obj_ID</th>\n",
       "      <th>class</th>\n",
       "      <th>redshift</th>\n",
       "      <th>plate</th>\n",
       "      <th>MJD</th>\n",
       "      <th>fiber_ID</th>\n",
       "    </tr>\n",
       "  </thead>\n",
       "  <tbody>\n",
       "    <tr>\n",
       "      <th>0</th>\n",
       "      <td>41029</td>\n",
       "      <td>1.237649e+18</td>\n",
       "      <td>194.748212</td>\n",
       "      <td>-0.911226</td>\n",
       "      <td>25.77469</td>\n",
       "      <td>22.72579</td>\n",
       "      <td>20.84263</td>\n",
       "      <td>19.80384</td>\n",
       "      <td>19.29726</td>\n",
       "      <td>756</td>\n",
       "      <td>301</td>\n",
       "      <td>1</td>\n",
       "      <td>527</td>\n",
       "      <td>4.271919e+18</td>\n",
       "      <td>GALAXY</td>\n",
       "      <td>0.525770</td>\n",
       "      <td>3794</td>\n",
       "      <td>55241</td>\n",
       "      <td>926</td>\n",
       "    </tr>\n",
       "    <tr>\n",
       "      <th>1</th>\n",
       "      <td>42888</td>\n",
       "      <td>1.237661e+18</td>\n",
       "      <td>140.525977</td>\n",
       "      <td>35.614836</td>\n",
       "      <td>21.94718</td>\n",
       "      <td>21.31617</td>\n",
       "      <td>20.21319</td>\n",
       "      <td>19.45814</td>\n",
       "      <td>19.09832</td>\n",
       "      <td>3560</td>\n",
       "      <td>301</td>\n",
       "      <td>4</td>\n",
       "      <td>221</td>\n",
       "      <td>5.228710e+18</td>\n",
       "      <td>GALAXY</td>\n",
       "      <td>0.439029</td>\n",
       "      <td>4644</td>\n",
       "      <td>55922</td>\n",
       "      <td>111</td>\n",
       "    </tr>\n",
       "    <tr>\n",
       "      <th>2</th>\n",
       "      <td>82610</td>\n",
       "      <td>1.237658e+18</td>\n",
       "      <td>125.922894</td>\n",
       "      <td>38.044046</td>\n",
       "      <td>23.47268</td>\n",
       "      <td>21.34390</td>\n",
       "      <td>19.41544</td>\n",
       "      <td>18.67742</td>\n",
       "      <td>18.14655</td>\n",
       "      <td>2822</td>\n",
       "      <td>301</td>\n",
       "      <td>2</td>\n",
       "      <td>135</td>\n",
       "      <td>4.233595e+18</td>\n",
       "      <td>GALAXY</td>\n",
       "      <td>0.414493</td>\n",
       "      <td>3760</td>\n",
       "      <td>55268</td>\n",
       "      <td>770</td>\n",
       "    </tr>\n",
       "    <tr>\n",
       "      <th>3</th>\n",
       "      <td>89586</td>\n",
       "      <td>1.237664e+18</td>\n",
       "      <td>18.634831</td>\n",
       "      <td>0.468756</td>\n",
       "      <td>20.03793</td>\n",
       "      <td>18.13051</td>\n",
       "      <td>17.21534</td>\n",
       "      <td>16.80004</td>\n",
       "      <td>16.48915</td>\n",
       "      <td>4263</td>\n",
       "      <td>301</td>\n",
       "      <td>5</td>\n",
       "      <td>240</td>\n",
       "      <td>1.217236e+18</td>\n",
       "      <td>GALAXY</td>\n",
       "      <td>0.091736</td>\n",
       "      <td>1081</td>\n",
       "      <td>52531</td>\n",
       "      <td>503</td>\n",
       "    </tr>\n",
       "    <tr>\n",
       "      <th>4</th>\n",
       "      <td>14627</td>\n",
       "      <td>1.237666e+18</td>\n",
       "      <td>52.832458</td>\n",
       "      <td>1.215699</td>\n",
       "      <td>20.72916</td>\n",
       "      <td>20.34843</td>\n",
       "      <td>20.11169</td>\n",
       "      <td>19.75053</td>\n",
       "      <td>19.74247</td>\n",
       "      <td>4849</td>\n",
       "      <td>301</td>\n",
       "      <td>6</td>\n",
       "      <td>807</td>\n",
       "      <td>8.028670e+17</td>\n",
       "      <td>QSO</td>\n",
       "      <td>1.562706</td>\n",
       "      <td>713</td>\n",
       "      <td>52178</td>\n",
       "      <td>365</td>\n",
       "    </tr>\n",
       "  </tbody>\n",
       "</table>\n",
       "</div>"
      ],
      "text/plain": [
       "   Unnamed: 0        obj_ID       alpha      delta         u         g  \\\n",
       "0       41029  1.237649e+18  194.748212  -0.911226  25.77469  22.72579   \n",
       "1       42888  1.237661e+18  140.525977  35.614836  21.94718  21.31617   \n",
       "2       82610  1.237658e+18  125.922894  38.044046  23.47268  21.34390   \n",
       "3       89586  1.237664e+18   18.634831   0.468756  20.03793  18.13051   \n",
       "4       14627  1.237666e+18   52.832458   1.215699  20.72916  20.34843   \n",
       "\n",
       "          r         i         z  run_ID  rerun_ID  cam_col  field_ID  \\\n",
       "0  20.84263  19.80384  19.29726     756       301        1       527   \n",
       "1  20.21319  19.45814  19.09832    3560       301        4       221   \n",
       "2  19.41544  18.67742  18.14655    2822       301        2       135   \n",
       "3  17.21534  16.80004  16.48915    4263       301        5       240   \n",
       "4  20.11169  19.75053  19.74247    4849       301        6       807   \n",
       "\n",
       "    spec_obj_ID   class  redshift  plate    MJD  fiber_ID  \n",
       "0  4.271919e+18  GALAXY  0.525770   3794  55241       926  \n",
       "1  5.228710e+18  GALAXY  0.439029   4644  55922       111  \n",
       "2  4.233595e+18  GALAXY  0.414493   3760  55268       770  \n",
       "3  1.217236e+18  GALAXY  0.091736   1081  52531       503  \n",
       "4  8.028670e+17     QSO  1.562706    713  52178       365  "
      ]
     },
     "execution_count": 22,
     "metadata": {},
     "output_type": "execute_result"
    }
   ],
   "source": [
    "df = pd.read_csv(\"data/stellar.csv\")\n",
    "df.head()"
   ]
  },
  {
   "cell_type": "code",
   "execution_count": 23,
   "metadata": {},
   "outputs": [
    {
     "data": {
      "text/plain": [
       "(80000, 19)"
      ]
     },
     "execution_count": 23,
     "metadata": {},
     "output_type": "execute_result"
    }
   ],
   "source": [
    "df.shape"
   ]
  },
  {
   "cell_type": "code",
   "execution_count": 24,
   "metadata": {},
   "outputs": [
    {
     "data": {
      "text/plain": [
       "Index(['Unnamed: 0', 'obj_ID', 'alpha', 'delta', 'u', 'g', 'r', 'i', 'z',\n",
       "       'run_ID', 'rerun_ID', 'cam_col', 'field_ID', 'spec_obj_ID', 'class',\n",
       "       'redshift', 'plate', 'MJD', 'fiber_ID'],\n",
       "      dtype='object')"
      ]
     },
     "execution_count": 24,
     "metadata": {},
     "output_type": "execute_result"
    }
   ],
   "source": [
    "df.columns"
   ]
  },
  {
   "cell_type": "code",
   "execution_count": 25,
   "metadata": {},
   "outputs": [
    {
     "name": "stdout",
     "output_type": "stream",
     "text": [
      "<class 'pandas.core.frame.DataFrame'>\n",
      "RangeIndex: 80000 entries, 0 to 79999\n",
      "Data columns (total 19 columns):\n",
      " #   Column       Non-Null Count  Dtype  \n",
      "---  ------       --------------  -----  \n",
      " 0   Unnamed: 0   80000 non-null  int64  \n",
      " 1   obj_ID       80000 non-null  float64\n",
      " 2   alpha        80000 non-null  float64\n",
      " 3   delta        80000 non-null  float64\n",
      " 4   u            80000 non-null  float64\n",
      " 5   g            80000 non-null  float64\n",
      " 6   r            80000 non-null  float64\n",
      " 7   i            80000 non-null  float64\n",
      " 8   z            80000 non-null  float64\n",
      " 9   run_ID       80000 non-null  int64  \n",
      " 10  rerun_ID     80000 non-null  int64  \n",
      " 11  cam_col      80000 non-null  int64  \n",
      " 12  field_ID     80000 non-null  int64  \n",
      " 13  spec_obj_ID  80000 non-null  float64\n",
      " 14  class        80000 non-null  object \n",
      " 15  redshift     80000 non-null  float64\n",
      " 16  plate        80000 non-null  int64  \n",
      " 17  MJD          80000 non-null  int64  \n",
      " 18  fiber_ID     80000 non-null  int64  \n",
      "dtypes: float64(10), int64(8), object(1)\n",
      "memory usage: 11.6+ MB\n"
     ]
    }
   ],
   "source": [
    "df.info()"
   ]
  },
  {
   "cell_type": "code",
   "execution_count": 26,
   "metadata": {},
   "outputs": [
    {
     "data": {
      "text/plain": [
       "0"
      ]
     },
     "execution_count": 26,
     "metadata": {},
     "output_type": "execute_result"
    }
   ],
   "source": [
    "df.duplicated().sum()"
   ]
  },
  {
   "cell_type": "code",
   "execution_count": 27,
   "metadata": {},
   "outputs": [
    {
     "data": {
      "text/plain": [
       "0"
      ]
     },
     "execution_count": 27,
     "metadata": {},
     "output_type": "execute_result"
    }
   ],
   "source": [
    "df.isnull().sum().sum()"
   ]
  },
  {
   "cell_type": "code",
   "execution_count": 28,
   "metadata": {},
   "outputs": [],
   "source": [
    "df.drop('Unnamed: 0', axis='columns', inplace=True)"
   ]
  },
  {
   "cell_type": "code",
   "execution_count": 29,
   "metadata": {},
   "outputs": [
    {
     "name": "stdout",
     "output_type": "stream",
     "text": [
      "<class 'pandas.core.frame.DataFrame'>\n",
      "RangeIndex: 80000 entries, 0 to 79999\n",
      "Data columns (total 18 columns):\n",
      " #   Column       Non-Null Count  Dtype  \n",
      "---  ------       --------------  -----  \n",
      " 0   obj_ID       80000 non-null  float64\n",
      " 1   alpha        80000 non-null  float64\n",
      " 2   delta        80000 non-null  float64\n",
      " 3   u            80000 non-null  float64\n",
      " 4   g            80000 non-null  float64\n",
      " 5   r            80000 non-null  float64\n",
      " 6   i            80000 non-null  float64\n",
      " 7   z            80000 non-null  float64\n",
      " 8   run_ID       80000 non-null  int64  \n",
      " 9   rerun_ID     80000 non-null  int64  \n",
      " 10  cam_col      80000 non-null  int64  \n",
      " 11  field_ID     80000 non-null  int64  \n",
      " 12  spec_obj_ID  80000 non-null  float64\n",
      " 13  class        80000 non-null  object \n",
      " 14  redshift     80000 non-null  float64\n",
      " 15  plate        80000 non-null  int64  \n",
      " 16  MJD          80000 non-null  int64  \n",
      " 17  fiber_ID     80000 non-null  int64  \n",
      "dtypes: float64(10), int64(7), object(1)\n",
      "memory usage: 11.0+ MB\n"
     ]
    }
   ],
   "source": [
    "df.info()"
   ]
  },
  {
   "cell_type": "code",
   "execution_count": 30,
   "metadata": {},
   "outputs": [],
   "source": [
    "df['fiber_ID'] = df['fiber_ID'].astype(str)\n",
    "df['spec_obj_ID'] = df['spec_obj_ID'].astype(str)\n",
    "df['field_ID'] = df['field_ID'].astype(str)\n",
    "df['rerun_ID'] = df['rerun_ID'].astype(str)\n",
    "df['run_ID'] = df['run_ID'].astype(str)\n",
    "df['obj_ID'] = df['obj_ID'].astype(str)\n",
    "df['plate'] = df['plate'].astype(str)\n"
   ]
  },
  {
   "cell_type": "code",
   "execution_count": 31,
   "metadata": {},
   "outputs": [
    {
     "name": "stdout",
     "output_type": "stream",
     "text": [
      "<class 'pandas.core.frame.DataFrame'>\n",
      "RangeIndex: 80000 entries, 0 to 79999\n",
      "Data columns (total 18 columns):\n",
      " #   Column       Non-Null Count  Dtype  \n",
      "---  ------       --------------  -----  \n",
      " 0   obj_ID       80000 non-null  object \n",
      " 1   alpha        80000 non-null  float64\n",
      " 2   delta        80000 non-null  float64\n",
      " 3   u            80000 non-null  float64\n",
      " 4   g            80000 non-null  float64\n",
      " 5   r            80000 non-null  float64\n",
      " 6   i            80000 non-null  float64\n",
      " 7   z            80000 non-null  float64\n",
      " 8   run_ID       80000 non-null  object \n",
      " 9   rerun_ID     80000 non-null  object \n",
      " 10  cam_col      80000 non-null  int64  \n",
      " 11  field_ID     80000 non-null  object \n",
      " 12  spec_obj_ID  80000 non-null  object \n",
      " 13  class        80000 non-null  object \n",
      " 14  redshift     80000 non-null  float64\n",
      " 15  plate        80000 non-null  object \n",
      " 16  MJD          80000 non-null  int64  \n",
      " 17  fiber_ID     80000 non-null  object \n",
      "dtypes: float64(8), int64(2), object(8)\n",
      "memory usage: 11.0+ MB\n"
     ]
    }
   ],
   "source": [
    "df.info()"
   ]
  },
  {
   "cell_type": "code",
   "execution_count": 32,
   "metadata": {},
   "outputs": [
    {
     "data": {
      "text/plain": [
       "Index(['obj_ID', 'alpha', 'delta', 'u', 'g', 'r', 'i', 'z', 'run_ID',\n",
       "       'rerun_ID', 'cam_col', 'field_ID', 'spec_obj_ID', 'class', 'redshift',\n",
       "       'plate', 'MJD', 'fiber_ID'],\n",
       "      dtype='object')"
      ]
     },
     "execution_count": 32,
     "metadata": {},
     "output_type": "execute_result"
    }
   ],
   "source": [
    "df.columns"
   ]
  },
  {
   "cell_type": "code",
   "execution_count": 33,
   "metadata": {},
   "outputs": [
    {
     "data": {
      "text/plain": [
       "GALAXY    47556\n",
       "STAR      17275\n",
       "QSO       15169\n",
       "Name: class, dtype: int64"
      ]
     },
     "execution_count": 33,
     "metadata": {},
     "output_type": "execute_result"
    }
   ],
   "source": [
    "df['class'].value_counts()"
   ]
  },
  {
   "cell_type": "code",
   "execution_count": 35,
   "metadata": {},
   "outputs": [
    {
     "data": {
      "image/png": "[encoded data removed]",
      "text/plain": [
       "<Figure size 432x288 with 1 Axes>"
      ]
     },
     "metadata": {
      "needs_background": "light"
     },
     "output_type": "display_data"
    }
   ],
   "source": [
    "df['class'].value_counts().plot(kind='bar');\n",
    "plt.xlabel(\"Class\", labelpad=14)\n",
    "plt.ylabel(\"Count\", labelpad=14)\n",
    "plt.title(\"Count of each class\", y=1.02);"
   ]
  }
 ],
 "metadata": {
  "interpreter": {
   "hash": "d56e20087258be1dae39aa9f194b8314ac315bc35be12cc01beab0d61256e8ed"
  },
  "kernelspec": {
   "display_name": "Python 3.10.1 64-bit",
   "language": "python",
   "name": "python3"
  },
  "language_info": {
   "codemirror_mode": {
    "name": "ipython",
    "version": 3
   },
   "file_extension": ".py",
   "mimetype": "text/x-python",
   "name": "python",
   "nbconvert_exporter": "python",
   "pygments_lexer": "ipython3",
   "version": "3.8.12"
  },
  "orig_nbformat": 4
 },
 "nbformat": 4,
 "nbformat_minor": 2
}
