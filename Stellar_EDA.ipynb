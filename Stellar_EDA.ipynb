{
 "cells": [
  {
   "cell_type": "markdown",
   "metadata": {},
   "source": [
    "# **Stellar Dataset**\n",
    "\n",
    "### **Data Description:**\n",
    "In astronomy, stellar classification is the classification of stars based on their spectral characteristics. The classification scheme of galaxies, quasars, and stars is one of the most fundamental in astronomy. The early cataloguing of stars and their distribution in the sky has led to the understanding that they make up our own galaxy and, following the distinction that Andromeda was a separate galaxy to our own, numerous galaxies began to be surveyed as more powerful telescopes were built. This datasat aims to classificate stars, galaxies, and quasars based on their spectral characteristics.\n",
    "\n",
    "\n",
    "### **Data Content:**\n",
    "The data consists of observations of space taken by the SDSS (Sloan Digital Sky Survey). Every observation is described by 17 feature columns and 1 class column which identifies it to be either a star, galaxy or quasar.\n",
    "\n",
    "### **Data Dictionary:**\n",
    "- obj_ID = Object Identifier, the unique value that identifies the object in the image catalog used by the CAS\n",
    "- alpha = Right Ascension angle (at J2000 epoch)\n",
    "- delta = Declination angle (at J2000 epoch)\n",
    "- u = Ultraviolet filter in the photometric system\n",
    "- g = Green filter in the photometric system\n",
    "- r = Red filter in the photometric system\n",
    "- i = Near Infrared filter in the photometric system\n",
    "- z = Infrared filter in the photometric system\n",
    "- run_ID = Run Number used to identify the specific scan\n",
    "- rereun_ID = Rerun Number to specify how the image was processed\n",
    "- cam_col = Camera column to identify the scanline within the run\n",
    "- field_ID = Field number to identify each field\n",
    "- spec_obj_ID = Unique ID used for optical spectroscopic objects (this means that 2 different observations with the same spec_obj_ID must share the output class)\n",
    "- class = object class (galaxy, star or quasar object) << your target\n",
    "- redshift = redshift value based on the increase in wavelength\n",
    "- plate = plate ID, identifies each plate in SDSS\n",
    "- MJD = Modified Julian Date, used to indicate when a given piece of SDSS - - - data was taken\n",
    "- fiber_ID = fiber ID that identifies the fiber that pointed the light at the focal plane in each observation"
   ]
  },
  {
   "cell_type": "markdown",
   "metadata": {},
   "source": [
    "#### Import libraries and read files"
   ]
  },
  {
   "cell_type": "code",
   "execution_count": 28,
   "metadata": {},
   "outputs": [],
   "source": [
    "# import libraries\n",
    "import pandas as pd\n",
    "import numpy as np\n",
    "import matplotlib.pyplot as plt\n",
    "import seaborn as sns\n",
    "from plotnine import ggplot, aes, geom_density, geom_line, geom_point, ggtitle\n",
    "\n",
    "# Modeling process\n",
    "from sklearn.model_selection import train_test_split, KFold, RepeatedKFold, cross_val_score\n",
    "from sklearn.model_selection import GridSearchCV\n"
   ]
  },
  {
   "cell_type": "code",
   "execution_count": 29,
   "metadata": {},
   "outputs": [
    {
     "data": {
      "text/html": [
       "<div>\n",
       "<style scoped>\n",
       "    .dataframe tbody tr th:only-of-type {\n",
       "        vertical-align: middle;\n",
       "    }\n",
       "\n",
       "    .dataframe tbody tr th {\n",
       "        vertical-align: top;\n",
       "    }\n",
       "\n",
       "    .dataframe thead th {\n",
       "        text-align: right;\n",
       "    }\n",
       "</style>\n",
       "<table border=\"1\" class=\"dataframe\">\n",
       "  <thead>\n",
       "    <tr style=\"text-align: right;\">\n",
       "      <th></th>\n",
       "      <th>Unnamed: 0</th>\n",
       "      <th>obj_ID</th>\n",
       "      <th>alpha</th>\n",
       "      <th>delta</th>\n",
       "      <th>u</th>\n",
       "      <th>g</th>\n",
       "      <th>r</th>\n",
       "      <th>i</th>\n",
       "      <th>z</th>\n",
       "      <th>run_ID</th>\n",
       "      <th>rerun_ID</th>\n",
       "      <th>cam_col</th>\n",
       "      <th>field_ID</th>\n",
       "      <th>spec_obj_ID</th>\n",
       "      <th>class</th>\n",
       "      <th>redshift</th>\n",
       "      <th>plate</th>\n",
       "      <th>MJD</th>\n",
       "      <th>fiber_ID</th>\n",
       "    </tr>\n",
       "  </thead>\n",
       "  <tbody>\n",
       "    <tr>\n",
       "      <th>0</th>\n",
       "      <td>41029</td>\n",
       "      <td>1.237649e+18</td>\n",
       "      <td>194.748212</td>\n",
       "      <td>-0.911226</td>\n",
       "      <td>25.77469</td>\n",
       "      <td>22.72579</td>\n",
       "      <td>20.84263</td>\n",
       "      <td>19.80384</td>\n",
       "      <td>19.29726</td>\n",
       "      <td>756</td>\n",
       "      <td>301</td>\n",
       "      <td>1</td>\n",
       "      <td>527</td>\n",
       "      <td>4.271919e+18</td>\n",
       "      <td>GALAXY</td>\n",
       "      <td>0.525770</td>\n",
       "      <td>3794</td>\n",
       "      <td>55241</td>\n",
       "      <td>926</td>\n",
       "    </tr>\n",
       "    <tr>\n",
       "      <th>1</th>\n",
       "      <td>42888</td>\n",
       "      <td>1.237661e+18</td>\n",
       "      <td>140.525977</td>\n",
       "      <td>35.614836</td>\n",
       "      <td>21.94718</td>\n",
       "      <td>21.31617</td>\n",
       "      <td>20.21319</td>\n",
       "      <td>19.45814</td>\n",
       "      <td>19.09832</td>\n",
       "      <td>3560</td>\n",
       "      <td>301</td>\n",
       "      <td>4</td>\n",
       "      <td>221</td>\n",
       "      <td>5.228710e+18</td>\n",
       "      <td>GALAXY</td>\n",
       "      <td>0.439029</td>\n",
       "      <td>4644</td>\n",
       "      <td>55922</td>\n",
       "      <td>111</td>\n",
       "    </tr>\n",
       "    <tr>\n",
       "      <th>2</th>\n",
       "      <td>82610</td>\n",
       "      <td>1.237658e+18</td>\n",
       "      <td>125.922894</td>\n",
       "      <td>38.044046</td>\n",
       "      <td>23.47268</td>\n",
       "      <td>21.34390</td>\n",
       "      <td>19.41544</td>\n",
       "      <td>18.67742</td>\n",
       "      <td>18.14655</td>\n",
       "      <td>2822</td>\n",
       "      <td>301</td>\n",
       "      <td>2</td>\n",
       "      <td>135</td>\n",
       "      <td>4.233595e+18</td>\n",
       "      <td>GALAXY</td>\n",
       "      <td>0.414493</td>\n",
       "      <td>3760</td>\n",
       "      <td>55268</td>\n",
       "      <td>770</td>\n",
       "    </tr>\n",
       "    <tr>\n",
       "      <th>3</th>\n",
       "      <td>89586</td>\n",
       "      <td>1.237664e+18</td>\n",
       "      <td>18.634831</td>\n",
       "      <td>0.468756</td>\n",
       "      <td>20.03793</td>\n",
       "      <td>18.13051</td>\n",
       "      <td>17.21534</td>\n",
       "      <td>16.80004</td>\n",
       "      <td>16.48915</td>\n",
       "      <td>4263</td>\n",
       "      <td>301</td>\n",
       "      <td>5</td>\n",
       "      <td>240</td>\n",
       "      <td>1.217236e+18</td>\n",
       "      <td>GALAXY</td>\n",
       "      <td>0.091736</td>\n",
       "      <td>1081</td>\n",
       "      <td>52531</td>\n",
       "      <td>503</td>\n",
       "    </tr>\n",
       "    <tr>\n",
       "      <th>4</th>\n",
       "      <td>14627</td>\n",
       "      <td>1.237666e+18</td>\n",
       "      <td>52.832458</td>\n",
       "      <td>1.215699</td>\n",
       "      <td>20.72916</td>\n",
       "      <td>20.34843</td>\n",
       "      <td>20.11169</td>\n",
       "      <td>19.75053</td>\n",
       "      <td>19.74247</td>\n",
       "      <td>4849</td>\n",
       "      <td>301</td>\n",
       "      <td>6</td>\n",
       "      <td>807</td>\n",
       "      <td>8.028670e+17</td>\n",
       "      <td>QSO</td>\n",
       "      <td>1.562706</td>\n",
       "      <td>713</td>\n",
       "      <td>52178</td>\n",
       "      <td>365</td>\n",
       "    </tr>\n",
       "  </tbody>\n",
       "</table>\n",
       "</div>"
      ],
      "text/plain": [
       "   Unnamed: 0        obj_ID       alpha      delta         u         g  \\\n",
       "0       41029  1.237649e+18  194.748212  -0.911226  25.77469  22.72579   \n",
       "1       42888  1.237661e+18  140.525977  35.614836  21.94718  21.31617   \n",
       "2       82610  1.237658e+18  125.922894  38.044046  23.47268  21.34390   \n",
       "3       89586  1.237664e+18   18.634831   0.468756  20.03793  18.13051   \n",
       "4       14627  1.237666e+18   52.832458   1.215699  20.72916  20.34843   \n",
       "\n",
       "          r         i         z  run_ID  rerun_ID  cam_col  field_ID  \\\n",
       "0  20.84263  19.80384  19.29726     756       301        1       527   \n",
       "1  20.21319  19.45814  19.09832    3560       301        4       221   \n",
       "2  19.41544  18.67742  18.14655    2822       301        2       135   \n",
       "3  17.21534  16.80004  16.48915    4263       301        5       240   \n",
       "4  20.11169  19.75053  19.74247    4849       301        6       807   \n",
       "\n",
       "    spec_obj_ID   class  redshift  plate    MJD  fiber_ID  \n",
       "0  4.271919e+18  GALAXY  0.525770   3794  55241       926  \n",
       "1  5.228710e+18  GALAXY  0.439029   4644  55922       111  \n",
       "2  4.233595e+18  GALAXY  0.414493   3760  55268       770  \n",
       "3  1.217236e+18  GALAXY  0.091736   1081  52531       503  \n",
       "4  8.028670e+17     QSO  1.562706    713  52178       365  "
      ]
     },
     "execution_count": 29,
     "metadata": {},
     "output_type": "execute_result"
    }
   ],
   "source": [
    "df = pd.read_csv(\"data/stellar.csv\")\n",
    "df.head()"
   ]
  },
  {
   "cell_type": "markdown",
   "metadata": {},
   "source": [
    "#### Data Exploring:"
   ]
  },
  {
   "cell_type": "code",
   "execution_count": 30,
   "metadata": {},
   "outputs": [
    {
     "data": {
      "text/plain": [
       "(80000, 19)"
      ]
     },
     "execution_count": 30,
     "metadata": {},
     "output_type": "execute_result"
    }
   ],
   "source": [
    "# check data structure\n",
    "df.shape"
   ]
  },
  {
   "cell_type": "code",
   "execution_count": 31,
   "metadata": {},
   "outputs": [
    {
     "name": "stdout",
     "output_type": "stream",
     "text": [
      "<class 'pandas.core.frame.DataFrame'>\n",
      "RangeIndex: 80000 entries, 0 to 79999\n",
      "Data columns (total 19 columns):\n",
      " #   Column       Non-Null Count  Dtype  \n",
      "---  ------       --------------  -----  \n",
      " 0   Unnamed: 0   80000 non-null  int64  \n",
      " 1   obj_ID       80000 non-null  float64\n",
      " 2   alpha        80000 non-null  float64\n",
      " 3   delta        80000 non-null  float64\n",
      " 4   u            80000 non-null  float64\n",
      " 5   g            80000 non-null  float64\n",
      " 6   r            80000 non-null  float64\n",
      " 7   i            80000 non-null  float64\n",
      " 8   z            80000 non-null  float64\n",
      " 9   run_ID       80000 non-null  int64  \n",
      " 10  rerun_ID     80000 non-null  int64  \n",
      " 11  cam_col      80000 non-null  int64  \n",
      " 12  field_ID     80000 non-null  int64  \n",
      " 13  spec_obj_ID  80000 non-null  float64\n",
      " 14  class        80000 non-null  object \n",
      " 15  redshift     80000 non-null  float64\n",
      " 16  plate        80000 non-null  int64  \n",
      " 17  MJD          80000 non-null  int64  \n",
      " 18  fiber_ID     80000 non-null  int64  \n",
      "dtypes: float64(10), int64(8), object(1)\n",
      "memory usage: 11.6+ MB\n"
     ]
    }
   ],
   "source": [
    "df.info()"
   ]
  },
  {
   "cell_type": "code",
   "execution_count": 32,
   "metadata": {},
   "outputs": [
    {
     "data": {
      "text/plain": [
       "0"
      ]
     },
     "execution_count": 32,
     "metadata": {},
     "output_type": "execute_result"
    }
   ],
   "source": [
    "# check for duplicates\n",
    "df.duplicated().sum()"
   ]
  },
  {
   "cell_type": "code",
   "execution_count": 33,
   "metadata": {},
   "outputs": [
    {
     "data": {
      "text/plain": [
       "0"
      ]
     },
     "execution_count": 33,
     "metadata": {},
     "output_type": "execute_result"
    }
   ],
   "source": [
    "# check for missing values\n",
    "df.isnull().sum().sum()"
   ]
  },
  {
   "cell_type": "code",
   "execution_count": 34,
   "metadata": {},
   "outputs": [],
   "source": [
    "# drop unneccery columns\n",
    "df.drop('Unnamed: 0', axis='columns', inplace=True)"
   ]
  },
  {
   "cell_type": "code",
   "execution_count": 35,
   "metadata": {},
   "outputs": [],
   "source": [
    "# change ID's columns dtype \n",
    "df['fiber_ID'] = df['fiber_ID'].astype(str)\n",
    "df['spec_obj_ID'] = df['spec_obj_ID'].astype(str)\n",
    "df['field_ID'] = df['field_ID'].astype(str)\n",
    "df['rerun_ID'] = df['rerun_ID'].astype(str)\n",
    "df['run_ID'] = df['run_ID'].astype(str)\n",
    "df['obj_ID'] = df['obj_ID'].astype(str)\n",
    "df['plate'] = df['plate'].astype(str)"
   ]
  },
  {
   "cell_type": "code",
   "execution_count": 36,
   "metadata": {},
   "outputs": [
    {
     "data": {
      "text/plain": [
       "obj_ID          object\n",
       "alpha          float64\n",
       "delta          float64\n",
       "u              float64\n",
       "g              float64\n",
       "r              float64\n",
       "i              float64\n",
       "z              float64\n",
       "run_ID          object\n",
       "rerun_ID        object\n",
       "cam_col          int64\n",
       "field_ID        object\n",
       "spec_obj_ID     object\n",
       "class           object\n",
       "redshift       float64\n",
       "plate           object\n",
       "MJD              int64\n",
       "fiber_ID        object\n",
       "dtype: object"
      ]
     },
     "execution_count": 36,
     "metadata": {},
     "output_type": "execute_result"
    }
   ],
   "source": [
    "df.dtypes"
   ]
  },
  {
   "cell_type": "code",
   "execution_count": 37,
   "metadata": {},
   "outputs": [
    {
     "data": {
      "text/plain": [
       "Index(['obj_ID', 'alpha', 'delta', 'u', 'g', 'r', 'i', 'z', 'run_ID',\n",
       "       'rerun_ID', 'cam_col', 'field_ID', 'spec_obj_ID', 'class', 'redshift',\n",
       "       'plate', 'MJD', 'fiber_ID'],\n",
       "      dtype='object')"
      ]
     },
     "execution_count": 37,
     "metadata": {},
     "output_type": "execute_result"
    }
   ],
   "source": [
    "df.columns"
   ]
  },
  {
   "cell_type": "markdown",
   "metadata": {},
   "source": [
    "#### Handling Multicollinearity"
   ]
  },
  {
   "cell_type": "code",
   "execution_count": 38,
   "metadata": {},
   "outputs": [
    {
     "data": {
      "text/html": [
       "<div>\n",
       "<style scoped>\n",
       "    .dataframe tbody tr th:only-of-type {\n",
       "        vertical-align: middle;\n",
       "    }\n",
       "\n",
       "    .dataframe tbody tr th {\n",
       "        vertical-align: top;\n",
       "    }\n",
       "\n",
       "    .dataframe thead th {\n",
       "        text-align: right;\n",
       "    }\n",
       "</style>\n",
       "<table border=\"1\" class=\"dataframe\">\n",
       "  <thead>\n",
       "    <tr style=\"text-align: right;\">\n",
       "      <th></th>\n",
       "      <th>alpha</th>\n",
       "      <th>delta</th>\n",
       "      <th>u</th>\n",
       "      <th>g</th>\n",
       "      <th>r</th>\n",
       "      <th>i</th>\n",
       "      <th>z</th>\n",
       "      <th>cam_col</th>\n",
       "      <th>redshift</th>\n",
       "      <th>MJD</th>\n",
       "    </tr>\n",
       "  </thead>\n",
       "  <tbody>\n",
       "    <tr>\n",
       "      <th>alpha</th>\n",
       "      <td>1.000000</td>\n",
       "      <td>0.139960</td>\n",
       "      <td>-0.001654</td>\n",
       "      <td>-0.002469</td>\n",
       "      <td>-0.022075</td>\n",
       "      <td>-0.023910</td>\n",
       "      <td>-0.002993</td>\n",
       "      <td>0.020881</td>\n",
       "      <td>0.000072</td>\n",
       "      <td>0.022503</td>\n",
       "    </tr>\n",
       "    <tr>\n",
       "      <th>delta</th>\n",
       "      <td>0.139960</td>\n",
       "      <td>1.000000</td>\n",
       "      <td>0.002714</td>\n",
       "      <td>0.003994</td>\n",
       "      <td>-0.007344</td>\n",
       "      <td>-0.004691</td>\n",
       "      <td>0.004123</td>\n",
       "      <td>0.034869</td>\n",
       "      <td>0.032344</td>\n",
       "      <td>0.106413</td>\n",
       "    </tr>\n",
       "    <tr>\n",
       "      <th>u</th>\n",
       "      <td>-0.001654</td>\n",
       "      <td>0.002714</td>\n",
       "      <td>1.000000</td>\n",
       "      <td>0.999450</td>\n",
       "      <td>0.049075</td>\n",
       "      <td>0.041356</td>\n",
       "      <td>0.998474</td>\n",
       "      <td>0.003862</td>\n",
       "      <td>0.013408</td>\n",
       "      <td>0.028870</td>\n",
       "    </tr>\n",
       "    <tr>\n",
       "      <th>g</th>\n",
       "      <td>-0.002469</td>\n",
       "      <td>0.003994</td>\n",
       "      <td>0.999450</td>\n",
       "      <td>1.000000</td>\n",
       "      <td>0.056371</td>\n",
       "      <td>0.050771</td>\n",
       "      <td>0.999330</td>\n",
       "      <td>0.003836</td>\n",
       "      <td>0.021127</td>\n",
       "      <td>0.036236</td>\n",
       "    </tr>\n",
       "    <tr>\n",
       "      <th>r</th>\n",
       "      <td>-0.022075</td>\n",
       "      <td>-0.007344</td>\n",
       "      <td>0.049075</td>\n",
       "      <td>0.056371</td>\n",
       "      <td>1.000000</td>\n",
       "      <td>0.963159</td>\n",
       "      <td>0.048657</td>\n",
       "      <td>0.009218</td>\n",
       "      <td>0.433485</td>\n",
       "      <td>0.669826</td>\n",
       "    </tr>\n",
       "    <tr>\n",
       "      <th>i</th>\n",
       "      <td>-0.023910</td>\n",
       "      <td>-0.004691</td>\n",
       "      <td>0.041356</td>\n",
       "      <td>0.050771</td>\n",
       "      <td>0.963159</td>\n",
       "      <td>1.000000</td>\n",
       "      <td>0.050628</td>\n",
       "      <td>0.007912</td>\n",
       "      <td>0.493205</td>\n",
       "      <td>0.671740</td>\n",
       "    </tr>\n",
       "    <tr>\n",
       "      <th>z</th>\n",
       "      <td>-0.002993</td>\n",
       "      <td>0.004123</td>\n",
       "      <td>0.998474</td>\n",
       "      <td>0.999330</td>\n",
       "      <td>0.048657</td>\n",
       "      <td>0.050628</td>\n",
       "      <td>1.000000</td>\n",
       "      <td>0.003715</td>\n",
       "      <td>0.027788</td>\n",
       "      <td>0.033732</td>\n",
       "    </tr>\n",
       "    <tr>\n",
       "      <th>cam_col</th>\n",
       "      <td>0.020881</td>\n",
       "      <td>0.034869</td>\n",
       "      <td>0.003862</td>\n",
       "      <td>0.003836</td>\n",
       "      <td>0.009218</td>\n",
       "      <td>0.007912</td>\n",
       "      <td>0.003715</td>\n",
       "      <td>1.000000</td>\n",
       "      <td>0.000841</td>\n",
       "      <td>-0.006703</td>\n",
       "    </tr>\n",
       "    <tr>\n",
       "      <th>redshift</th>\n",
       "      <td>0.000072</td>\n",
       "      <td>0.032344</td>\n",
       "      <td>0.013408</td>\n",
       "      <td>0.021127</td>\n",
       "      <td>0.433485</td>\n",
       "      <td>0.493205</td>\n",
       "      <td>0.027788</td>\n",
       "      <td>0.000841</td>\n",
       "      <td>1.000000</td>\n",
       "      <td>0.386759</td>\n",
       "    </tr>\n",
       "    <tr>\n",
       "      <th>MJD</th>\n",
       "      <td>0.022503</td>\n",
       "      <td>0.106413</td>\n",
       "      <td>0.028870</td>\n",
       "      <td>0.036236</td>\n",
       "      <td>0.669826</td>\n",
       "      <td>0.671740</td>\n",
       "      <td>0.033732</td>\n",
       "      <td>-0.006703</td>\n",
       "      <td>0.386759</td>\n",
       "      <td>1.000000</td>\n",
       "    </tr>\n",
       "  </tbody>\n",
       "</table>\n",
       "</div>"
      ],
      "text/plain": [
       "             alpha     delta         u         g         r         i  \\\n",
       "alpha     1.000000  0.139960 -0.001654 -0.002469 -0.022075 -0.023910   \n",
       "delta     0.139960  1.000000  0.002714  0.003994 -0.007344 -0.004691   \n",
       "u        -0.001654  0.002714  1.000000  0.999450  0.049075  0.041356   \n",
       "g        -0.002469  0.003994  0.999450  1.000000  0.056371  0.050771   \n",
       "r        -0.022075 -0.007344  0.049075  0.056371  1.000000  0.963159   \n",
       "i        -0.023910 -0.004691  0.041356  0.050771  0.963159  1.000000   \n",
       "z        -0.002993  0.004123  0.998474  0.999330  0.048657  0.050628   \n",
       "cam_col   0.020881  0.034869  0.003862  0.003836  0.009218  0.007912   \n",
       "redshift  0.000072  0.032344  0.013408  0.021127  0.433485  0.493205   \n",
       "MJD       0.022503  0.106413  0.028870  0.036236  0.669826  0.671740   \n",
       "\n",
       "                 z   cam_col  redshift       MJD  \n",
       "alpha    -0.002993  0.020881  0.000072  0.022503  \n",
       "delta     0.004123  0.034869  0.032344  0.106413  \n",
       "u         0.998474  0.003862  0.013408  0.028870  \n",
       "g         0.999330  0.003836  0.021127  0.036236  \n",
       "r         0.048657  0.009218  0.433485  0.669826  \n",
       "i         0.050628  0.007912  0.493205  0.671740  \n",
       "z         1.000000  0.003715  0.027788  0.033732  \n",
       "cam_col   0.003715  1.000000  0.000841 -0.006703  \n",
       "redshift  0.027788  0.000841  1.000000  0.386759  \n",
       "MJD       0.033732 -0.006703  0.386759  1.000000  "
      ]
     },
     "execution_count": 38,
     "metadata": {},
     "output_type": "execute_result"
    }
   ],
   "source": [
    "#check the corrolation\n",
    "df.corr()"
   ]
  },
  {
   "cell_type": "code",
   "execution_count": 39,
   "metadata": {},
   "outputs": [
    {
     "data": {
      "image/png": "[encoded data removed]",
      "text/plain": [
       "<Figure size 1080x720 with 2 Axes>"
      ]
     },
     "metadata": {},
     "output_type": "display_data"
    }
   ],
   "source": [
    "corr_matrix=df.corr()\n",
    "\n",
    "# Create a Chart for the 6 Factors Correlations\n",
    "sns.heatmap(corr_matrix, annot = True, cmap=\"YlGnBu\")\n",
    "plt.title(('Correlations Between Factors'))\n",
    "sns.set(rc={'figure.figsize':(15,10)})"
   ]
  },
  {
   "cell_type": "code",
   "execution_count": 40,
   "metadata": {},
   "outputs": [],
   "source": [
    "#Muticollinearity exists between features - ('u' and 'g'), ('g', 'r', 'i'), ('z', 'g', 'r', 'i'), ('spec_obj_ID' and 'plate')\n",
    "#I will remove features - 'g', 'r', 'i', 'spec_obj_ID'.\n",
    "df.drop([\"g\", \"r\", \"i\", \"spec_obj_ID\"], axis=1, inplace=True)"
   ]
  },
  {
   "cell_type": "markdown",
   "metadata": {},
   "source": [
    "### Dimension reduction"
   ]
  },
  {
   "cell_type": "code",
   "execution_count": 41,
   "metadata": {},
   "outputs": [
    {
     "data": {
      "text/html": [
       "<div>\n",
       "<style scoped>\n",
       "    .dataframe tbody tr th:only-of-type {\n",
       "        vertical-align: middle;\n",
       "    }\n",
       "\n",
       "    .dataframe tbody tr th {\n",
       "        vertical-align: top;\n",
       "    }\n",
       "\n",
       "    .dataframe thead th {\n",
       "        text-align: right;\n",
       "    }\n",
       "</style>\n",
       "<table border=\"1\" class=\"dataframe\">\n",
       "  <thead>\n",
       "    <tr style=\"text-align: right;\">\n",
       "      <th></th>\n",
       "      <th>obj_ID</th>\n",
       "      <th>run_ID</th>\n",
       "      <th>rerun_ID</th>\n",
       "      <th>field_ID</th>\n",
       "      <th>fiber_ID</th>\n",
       "    </tr>\n",
       "  </thead>\n",
       "  <tbody>\n",
       "    <tr>\n",
       "      <th>0</th>\n",
       "      <td>1.237648720163439e+18</td>\n",
       "      <td>756</td>\n",
       "      <td>301</td>\n",
       "      <td>527</td>\n",
       "      <td>926</td>\n",
       "    </tr>\n",
       "    <tr>\n",
       "      <th>1</th>\n",
       "      <td>1.237660764842296e+18</td>\n",
       "      <td>3560</td>\n",
       "      <td>301</td>\n",
       "      <td>221</td>\n",
       "      <td>111</td>\n",
       "    </tr>\n",
       "    <tr>\n",
       "      <th>2</th>\n",
       "      <td>1.2376575940770534e+18</td>\n",
       "      <td>2822</td>\n",
       "      <td>301</td>\n",
       "      <td>135</td>\n",
       "      <td>770</td>\n",
       "    </tr>\n",
       "    <tr>\n",
       "      <th>3</th>\n",
       "      <td>1.2376637847424205e+18</td>\n",
       "      <td>4263</td>\n",
       "      <td>301</td>\n",
       "      <td>240</td>\n",
       "      <td>503</td>\n",
       "    </tr>\n",
       "    <tr>\n",
       "      <th>4</th>\n",
       "      <td>1.237666302167286e+18</td>\n",
       "      <td>4849</td>\n",
       "      <td>301</td>\n",
       "      <td>807</td>\n",
       "      <td>365</td>\n",
       "    </tr>\n",
       "    <tr>\n",
       "      <th>...</th>\n",
       "      <td>...</td>\n",
       "      <td>...</td>\n",
       "      <td>...</td>\n",
       "      <td>...</td>\n",
       "      <td>...</td>\n",
       "    </tr>\n",
       "    <tr>\n",
       "      <th>79995</th>\n",
       "      <td>1.2376543814464968e+18</td>\n",
       "      <td>2074</td>\n",
       "      <td>301</td>\n",
       "      <td>211</td>\n",
       "      <td>335</td>\n",
       "    </tr>\n",
       "    <tr>\n",
       "      <th>79996</th>\n",
       "      <td>1.237662963855e+18</td>\n",
       "      <td>4072</td>\n",
       "      <td>301</td>\n",
       "      <td>60</td>\n",
       "      <td>1</td>\n",
       "    </tr>\n",
       "    <tr>\n",
       "      <th>79997</th>\n",
       "      <td>1.2376648370029212e+18</td>\n",
       "      <td>4508</td>\n",
       "      <td>301</td>\n",
       "      <td>141</td>\n",
       "      <td>139</td>\n",
       "    </tr>\n",
       "    <tr>\n",
       "      <th>79998</th>\n",
       "      <td>1.2376651070417797e+18</td>\n",
       "      <td>4571</td>\n",
       "      <td>301</td>\n",
       "      <td>31</td>\n",
       "      <td>517</td>\n",
       "    </tr>\n",
       "    <tr>\n",
       "      <th>79999</th>\n",
       "      <td>1.2376682949855155e+18</td>\n",
       "      <td>5313</td>\n",
       "      <td>301</td>\n",
       "      <td>96</td>\n",
       "      <td>202</td>\n",
       "    </tr>\n",
       "  </tbody>\n",
       "</table>\n",
       "<p>80000 rows × 5 columns</p>\n",
       "</div>"
      ],
      "text/plain": [
       "                       obj_ID run_ID rerun_ID field_ID fiber_ID\n",
       "0       1.237648720163439e+18    756      301      527      926\n",
       "1       1.237660764842296e+18   3560      301      221      111\n",
       "2      1.2376575940770534e+18   2822      301      135      770\n",
       "3      1.2376637847424205e+18   4263      301      240      503\n",
       "4       1.237666302167286e+18   4849      301      807      365\n",
       "...                       ...    ...      ...      ...      ...\n",
       "79995  1.2376543814464968e+18   2074      301      211      335\n",
       "79996      1.237662963855e+18   4072      301       60        1\n",
       "79997  1.2376648370029212e+18   4508      301      141      139\n",
       "79998  1.2376651070417797e+18   4571      301       31      517\n",
       "79999  1.2376682949855155e+18   5313      301       96      202\n",
       "\n",
       "[80000 rows x 5 columns]"
      ]
     },
     "execution_count": 41,
     "metadata": {},
     "output_type": "execute_result"
    }
   ],
   "source": [
    "#Drop the ID Columns and save them into ID dataframe\n",
    "ID=df[['obj_ID','run_ID','rerun_ID','field_ID','fiber_ID']]\n",
    "df.drop(['obj_ID','run_ID','rerun_ID','field_ID','fiber_ID'], axis=1, inplace=True)\n",
    "ID"
   ]
  },
  {
   "cell_type": "code",
   "execution_count": 42,
   "metadata": {},
   "outputs": [
    {
     "data": {
      "text/html": [
       "<div>\n",
       "<style scoped>\n",
       "    .dataframe tbody tr th:only-of-type {\n",
       "        vertical-align: middle;\n",
       "    }\n",
       "\n",
       "    .dataframe tbody tr th {\n",
       "        vertical-align: top;\n",
       "    }\n",
       "\n",
       "    .dataframe thead th {\n",
       "        text-align: right;\n",
       "    }\n",
       "</style>\n",
       "<table border=\"1\" class=\"dataframe\">\n",
       "  <thead>\n",
       "    <tr style=\"text-align: right;\">\n",
       "      <th></th>\n",
       "      <th>ID</th>\n",
       "    </tr>\n",
       "  </thead>\n",
       "  <tbody>\n",
       "    <tr>\n",
       "      <th>0</th>\n",
       "      <td>1.598441e+13</td>\n",
       "    </tr>\n",
       "    <tr>\n",
       "      <th>1</th>\n",
       "      <td>3.939732e+12</td>\n",
       "    </tr>\n",
       "    <tr>\n",
       "      <th>2</th>\n",
       "      <td>7.110498e+12</td>\n",
       "    </tr>\n",
       "    <tr>\n",
       "      <th>3</th>\n",
       "      <td>9.198324e+11</td>\n",
       "    </tr>\n",
       "    <tr>\n",
       "      <th>4</th>\n",
       "      <td>-1.597592e+12</td>\n",
       "    </tr>\n",
       "    <tr>\n",
       "      <th>...</th>\n",
       "      <td>...</td>\n",
       "    </tr>\n",
       "    <tr>\n",
       "      <th>79995</th>\n",
       "      <td>1.032313e+13</td>\n",
       "    </tr>\n",
       "    <tr>\n",
       "      <th>79996</th>\n",
       "      <td>1.740720e+12</td>\n",
       "    </tr>\n",
       "    <tr>\n",
       "      <th>79997</th>\n",
       "      <td>-1.324281e+11</td>\n",
       "    </tr>\n",
       "    <tr>\n",
       "      <th>79998</th>\n",
       "      <td>-4.024670e+11</td>\n",
       "    </tr>\n",
       "    <tr>\n",
       "      <th>79999</th>\n",
       "      <td>-3.590411e+12</td>\n",
       "    </tr>\n",
       "  </tbody>\n",
       "</table>\n",
       "<p>80000 rows × 1 columns</p>\n",
       "</div>"
      ],
      "text/plain": [
       "                 ID\n",
       "0      1.598441e+13\n",
       "1      3.939732e+12\n",
       "2      7.110498e+12\n",
       "3      9.198324e+11\n",
       "4     -1.597592e+12\n",
       "...             ...\n",
       "79995  1.032313e+13\n",
       "79996  1.740720e+12\n",
       "79997 -1.324281e+11\n",
       "79998 -4.024670e+11\n",
       "79999 -3.590411e+12\n",
       "\n",
       "[80000 rows x 1 columns]"
      ]
     },
     "execution_count": 42,
     "metadata": {},
     "output_type": "execute_result"
    }
   ],
   "source": [
    "from sklearn.decomposition import PCA\n",
    "from sklearn.compose import ColumnTransformer\n",
    "from sklearn.compose import make_column_selector as selector\n",
    "pca = PCA(n_components=1)\n",
    "principalComponents = pca.fit_transform(ID)\n",
    "ID_new = pd.DataFrame(data = principalComponents, columns = ['ID'])\n",
    "ID_new\n"
   ]
  },
  {
   "cell_type": "code",
   "execution_count": 43,
   "metadata": {},
   "outputs": [
    {
     "data": {
      "text/html": [
       "<div>\n",
       "<style scoped>\n",
       "    .dataframe tbody tr th:only-of-type {\n",
       "        vertical-align: middle;\n",
       "    }\n",
       "\n",
       "    .dataframe tbody tr th {\n",
       "        vertical-align: top;\n",
       "    }\n",
       "\n",
       "    .dataframe thead th {\n",
       "        text-align: right;\n",
       "    }\n",
       "</style>\n",
       "<table border=\"1\" class=\"dataframe\">\n",
       "  <thead>\n",
       "    <tr style=\"text-align: right;\">\n",
       "      <th></th>\n",
       "      <th>alpha</th>\n",
       "      <th>delta</th>\n",
       "      <th>u</th>\n",
       "      <th>z</th>\n",
       "      <th>cam_col</th>\n",
       "      <th>class</th>\n",
       "      <th>redshift</th>\n",
       "      <th>plate</th>\n",
       "      <th>MJD</th>\n",
       "      <th>ID</th>\n",
       "    </tr>\n",
       "  </thead>\n",
       "  <tbody>\n",
       "    <tr>\n",
       "      <th>0</th>\n",
       "      <td>194.748212</td>\n",
       "      <td>-0.911226</td>\n",
       "      <td>25.77469</td>\n",
       "      <td>19.29726</td>\n",
       "      <td>1</td>\n",
       "      <td>GALAXY</td>\n",
       "      <td>0.525770</td>\n",
       "      <td>3794</td>\n",
       "      <td>55241</td>\n",
       "      <td>1.598441e+13</td>\n",
       "    </tr>\n",
       "    <tr>\n",
       "      <th>1</th>\n",
       "      <td>140.525977</td>\n",
       "      <td>35.614836</td>\n",
       "      <td>21.94718</td>\n",
       "      <td>19.09832</td>\n",
       "      <td>4</td>\n",
       "      <td>GALAXY</td>\n",
       "      <td>0.439029</td>\n",
       "      <td>4644</td>\n",
       "      <td>55922</td>\n",
       "      <td>3.939732e+12</td>\n",
       "    </tr>\n",
       "    <tr>\n",
       "      <th>2</th>\n",
       "      <td>125.922894</td>\n",
       "      <td>38.044046</td>\n",
       "      <td>23.47268</td>\n",
       "      <td>18.14655</td>\n",
       "      <td>2</td>\n",
       "      <td>GALAXY</td>\n",
       "      <td>0.414493</td>\n",
       "      <td>3760</td>\n",
       "      <td>55268</td>\n",
       "      <td>7.110498e+12</td>\n",
       "    </tr>\n",
       "    <tr>\n",
       "      <th>3</th>\n",
       "      <td>18.634831</td>\n",
       "      <td>0.468756</td>\n",
       "      <td>20.03793</td>\n",
       "      <td>16.48915</td>\n",
       "      <td>5</td>\n",
       "      <td>GALAXY</td>\n",
       "      <td>0.091736</td>\n",
       "      <td>1081</td>\n",
       "      <td>52531</td>\n",
       "      <td>9.198324e+11</td>\n",
       "    </tr>\n",
       "    <tr>\n",
       "      <th>4</th>\n",
       "      <td>52.832458</td>\n",
       "      <td>1.215699</td>\n",
       "      <td>20.72916</td>\n",
       "      <td>19.74247</td>\n",
       "      <td>6</td>\n",
       "      <td>QSO</td>\n",
       "      <td>1.562706</td>\n",
       "      <td>713</td>\n",
       "      <td>52178</td>\n",
       "      <td>-1.597592e+12</td>\n",
       "    </tr>\n",
       "    <tr>\n",
       "      <th>...</th>\n",
       "      <td>...</td>\n",
       "      <td>...</td>\n",
       "      <td>...</td>\n",
       "      <td>...</td>\n",
       "      <td>...</td>\n",
       "      <td>...</td>\n",
       "      <td>...</td>\n",
       "      <td>...</td>\n",
       "      <td>...</td>\n",
       "      <td>...</td>\n",
       "    </tr>\n",
       "    <tr>\n",
       "      <th>79995</th>\n",
       "      <td>156.946589</td>\n",
       "      <td>58.686923</td>\n",
       "      <td>22.37756</td>\n",
       "      <td>18.34169</td>\n",
       "      <td>2</td>\n",
       "      <td>GALAXY</td>\n",
       "      <td>0.538937</td>\n",
       "      <td>7089</td>\n",
       "      <td>56661</td>\n",
       "      <td>1.032313e+13</td>\n",
       "    </tr>\n",
       "    <tr>\n",
       "      <th>79996</th>\n",
       "      <td>355.649333</td>\n",
       "      <td>44.738093</td>\n",
       "      <td>18.02005</td>\n",
       "      <td>16.35642</td>\n",
       "      <td>4</td>\n",
       "      <td>STAR</td>\n",
       "      <td>-0.001132</td>\n",
       "      <td>1886</td>\n",
       "      <td>53237</td>\n",
       "      <td>1.740720e+12</td>\n",
       "    </tr>\n",
       "    <tr>\n",
       "      <th>79997</th>\n",
       "      <td>132.990801</td>\n",
       "      <td>25.816729</td>\n",
       "      <td>25.69788</td>\n",
       "      <td>19.68414</td>\n",
       "      <td>5</td>\n",
       "      <td>GALAXY</td>\n",
       "      <td>0.765474</td>\n",
       "      <td>11122</td>\n",
       "      <td>58437</td>\n",
       "      <td>-1.324281e+11</td>\n",
       "    </tr>\n",
       "    <tr>\n",
       "      <th>79998</th>\n",
       "      <td>245.971013</td>\n",
       "      <td>19.218462</td>\n",
       "      <td>18.29851</td>\n",
       "      <td>17.81232</td>\n",
       "      <td>4</td>\n",
       "      <td>QSO</td>\n",
       "      <td>1.501470</td>\n",
       "      <td>2970</td>\n",
       "      <td>54589</td>\n",
       "      <td>-4.024670e+11</td>\n",
       "    </tr>\n",
       "    <tr>\n",
       "      <th>79999</th>\n",
       "      <td>173.620117</td>\n",
       "      <td>20.620310</td>\n",
       "      <td>21.45405</td>\n",
       "      <td>17.21519</td>\n",
       "      <td>6</td>\n",
       "      <td>GALAXY</td>\n",
       "      <td>0.323639</td>\n",
       "      <td>2504</td>\n",
       "      <td>54179</td>\n",
       "      <td>-3.590411e+12</td>\n",
       "    </tr>\n",
       "  </tbody>\n",
       "</table>\n",
       "<p>80000 rows × 10 columns</p>\n",
       "</div>"
      ],
      "text/plain": [
       "            alpha      delta         u         z  cam_col   class  redshift  \\\n",
       "0      194.748212  -0.911226  25.77469  19.29726        1  GALAXY  0.525770   \n",
       "1      140.525977  35.614836  21.94718  19.09832        4  GALAXY  0.439029   \n",
       "2      125.922894  38.044046  23.47268  18.14655        2  GALAXY  0.414493   \n",
       "3       18.634831   0.468756  20.03793  16.48915        5  GALAXY  0.091736   \n",
       "4       52.832458   1.215699  20.72916  19.74247        6     QSO  1.562706   \n",
       "...           ...        ...       ...       ...      ...     ...       ...   \n",
       "79995  156.946589  58.686923  22.37756  18.34169        2  GALAXY  0.538937   \n",
       "79996  355.649333  44.738093  18.02005  16.35642        4    STAR -0.001132   \n",
       "79997  132.990801  25.816729  25.69788  19.68414        5  GALAXY  0.765474   \n",
       "79998  245.971013  19.218462  18.29851  17.81232        4     QSO  1.501470   \n",
       "79999  173.620117  20.620310  21.45405  17.21519        6  GALAXY  0.323639   \n",
       "\n",
       "       plate    MJD            ID  \n",
       "0       3794  55241  1.598441e+13  \n",
       "1       4644  55922  3.939732e+12  \n",
       "2       3760  55268  7.110498e+12  \n",
       "3       1081  52531  9.198324e+11  \n",
       "4        713  52178 -1.597592e+12  \n",
       "...      ...    ...           ...  \n",
       "79995   7089  56661  1.032313e+13  \n",
       "79996   1886  53237  1.740720e+12  \n",
       "79997  11122  58437 -1.324281e+11  \n",
       "79998   2970  54589 -4.024670e+11  \n",
       "79999   2504  54179 -3.590411e+12  \n",
       "\n",
       "[80000 rows x 10 columns]"
      ]
     },
     "execution_count": 43,
     "metadata": {},
     "output_type": "execute_result"
    }
   ],
   "source": [
    "df['ID']=ID_new\n",
    "df"
   ]
  },
  {
   "cell_type": "code",
   "execution_count": 44,
   "metadata": {},
   "outputs": [
    {
     "data": {
      "text/html": [
       "<div>\n",
       "<style scoped>\n",
       "    .dataframe tbody tr th:only-of-type {\n",
       "        vertical-align: middle;\n",
       "    }\n",
       "\n",
       "    .dataframe tbody tr th {\n",
       "        vertical-align: top;\n",
       "    }\n",
       "\n",
       "    .dataframe thead th {\n",
       "        text-align: right;\n",
       "    }\n",
       "</style>\n",
       "<table border=\"1\" class=\"dataframe\">\n",
       "  <thead>\n",
       "    <tr style=\"text-align: right;\">\n",
       "      <th></th>\n",
       "      <th>alpha</th>\n",
       "      <th>delta</th>\n",
       "      <th>u</th>\n",
       "      <th>z</th>\n",
       "      <th>cam_col</th>\n",
       "      <th>redshift</th>\n",
       "      <th>MJD</th>\n",
       "      <th>ID</th>\n",
       "    </tr>\n",
       "  </thead>\n",
       "  <tbody>\n",
       "    <tr>\n",
       "      <th>alpha</th>\n",
       "      <td>1.000000</td>\n",
       "      <td>0.139960</td>\n",
       "      <td>-0.001654</td>\n",
       "      <td>-0.002993</td>\n",
       "      <td>0.020881</td>\n",
       "      <td>0.000072</td>\n",
       "      <td>0.022503</td>\n",
       "      <td>0.013633</td>\n",
       "    </tr>\n",
       "    <tr>\n",
       "      <th>delta</th>\n",
       "      <td>0.139960</td>\n",
       "      <td>1.000000</td>\n",
       "      <td>0.002714</td>\n",
       "      <td>0.004123</td>\n",
       "      <td>0.034869</td>\n",
       "      <td>0.032344</td>\n",
       "      <td>0.106413</td>\n",
       "      <td>0.301188</td>\n",
       "    </tr>\n",
       "    <tr>\n",
       "      <th>u</th>\n",
       "      <td>-0.001654</td>\n",
       "      <td>0.002714</td>\n",
       "      <td>1.000000</td>\n",
       "      <td>0.998474</td>\n",
       "      <td>0.003862</td>\n",
       "      <td>0.013408</td>\n",
       "      <td>0.028870</td>\n",
       "      <td>-0.014838</td>\n",
       "    </tr>\n",
       "    <tr>\n",
       "      <th>z</th>\n",
       "      <td>-0.002993</td>\n",
       "      <td>0.004123</td>\n",
       "      <td>0.998474</td>\n",
       "      <td>1.000000</td>\n",
       "      <td>0.003715</td>\n",
       "      <td>0.027788</td>\n",
       "      <td>0.033732</td>\n",
       "      <td>-0.013720</td>\n",
       "    </tr>\n",
       "    <tr>\n",
       "      <th>cam_col</th>\n",
       "      <td>0.020881</td>\n",
       "      <td>0.034869</td>\n",
       "      <td>0.003862</td>\n",
       "      <td>0.003715</td>\n",
       "      <td>1.000000</td>\n",
       "      <td>0.000841</td>\n",
       "      <td>-0.006703</td>\n",
       "      <td>0.048166</td>\n",
       "    </tr>\n",
       "    <tr>\n",
       "      <th>redshift</th>\n",
       "      <td>0.000072</td>\n",
       "      <td>0.032344</td>\n",
       "      <td>0.013408</td>\n",
       "      <td>0.027788</td>\n",
       "      <td>0.000841</td>\n",
       "      <td>1.000000</td>\n",
       "      <td>0.386759</td>\n",
       "      <td>-0.065964</td>\n",
       "    </tr>\n",
       "    <tr>\n",
       "      <th>MJD</th>\n",
       "      <td>0.022503</td>\n",
       "      <td>0.106413</td>\n",
       "      <td>0.028870</td>\n",
       "      <td>0.033732</td>\n",
       "      <td>-0.006703</td>\n",
       "      <td>0.386759</td>\n",
       "      <td>1.000000</td>\n",
       "      <td>-0.262421</td>\n",
       "    </tr>\n",
       "    <tr>\n",
       "      <th>ID</th>\n",
       "      <td>0.013633</td>\n",
       "      <td>0.301188</td>\n",
       "      <td>-0.014838</td>\n",
       "      <td>-0.013720</td>\n",
       "      <td>0.048166</td>\n",
       "      <td>-0.065964</td>\n",
       "      <td>-0.262421</td>\n",
       "      <td>1.000000</td>\n",
       "    </tr>\n",
       "  </tbody>\n",
       "</table>\n",
       "</div>"
      ],
      "text/plain": [
       "             alpha     delta         u         z   cam_col  redshift  \\\n",
       "alpha     1.000000  0.139960 -0.001654 -0.002993  0.020881  0.000072   \n",
       "delta     0.139960  1.000000  0.002714  0.004123  0.034869  0.032344   \n",
       "u        -0.001654  0.002714  1.000000  0.998474  0.003862  0.013408   \n",
       "z        -0.002993  0.004123  0.998474  1.000000  0.003715  0.027788   \n",
       "cam_col   0.020881  0.034869  0.003862  0.003715  1.000000  0.000841   \n",
       "redshift  0.000072  0.032344  0.013408  0.027788  0.000841  1.000000   \n",
       "MJD       0.022503  0.106413  0.028870  0.033732 -0.006703  0.386759   \n",
       "ID        0.013633  0.301188 -0.014838 -0.013720  0.048166 -0.065964   \n",
       "\n",
       "               MJD        ID  \n",
       "alpha     0.022503  0.013633  \n",
       "delta     0.106413  0.301188  \n",
       "u         0.028870 -0.014838  \n",
       "z         0.033732 -0.013720  \n",
       "cam_col  -0.006703  0.048166  \n",
       "redshift  0.386759 -0.065964  \n",
       "MJD       1.000000 -0.262421  \n",
       "ID       -0.262421  1.000000  "
      ]
     },
     "execution_count": 44,
     "metadata": {},
     "output_type": "execute_result"
    }
   ],
   "source": [
    "df.corr()"
   ]
  },
  {
   "cell_type": "code",
   "execution_count": 45,
   "metadata": {},
   "outputs": [
    {
     "name": "stdout",
     "output_type": "stream",
     "text": [
      "<class 'pandas.core.frame.DataFrame'>\n",
      "RangeIndex: 80000 entries, 0 to 79999\n",
      "Data columns (total 10 columns):\n",
      " #   Column    Non-Null Count  Dtype  \n",
      "---  ------    --------------  -----  \n",
      " 0   alpha     80000 non-null  float64\n",
      " 1   delta     80000 non-null  float64\n",
      " 2   u         80000 non-null  float64\n",
      " 3   z         80000 non-null  float64\n",
      " 4   cam_col   80000 non-null  int64  \n",
      " 5   class     80000 non-null  object \n",
      " 6   redshift  80000 non-null  float64\n",
      " 7   plate     80000 non-null  object \n",
      " 8   MJD       80000 non-null  int64  \n",
      " 9   ID        80000 non-null  float64\n",
      "dtypes: float64(6), int64(2), object(2)\n",
      "memory usage: 6.1+ MB\n"
     ]
    }
   ],
   "source": [
    "df.info()"
   ]
  },
  {
   "cell_type": "code",
   "execution_count": 46,
   "metadata": {},
   "outputs": [],
   "source": [
    "df['ID']= df['ID'].astype(str)"
   ]
  },
  {
   "cell_type": "code",
   "execution_count": 47,
   "metadata": {},
   "outputs": [
    {
     "name": "stdout",
     "output_type": "stream",
     "text": [
      "<class 'pandas.core.frame.DataFrame'>\n",
      "RangeIndex: 80000 entries, 0 to 79999\n",
      "Data columns (total 10 columns):\n",
      " #   Column    Non-Null Count  Dtype  \n",
      "---  ------    --------------  -----  \n",
      " 0   alpha     80000 non-null  float64\n",
      " 1   delta     80000 non-null  float64\n",
      " 2   u         80000 non-null  float64\n",
      " 3   z         80000 non-null  float64\n",
      " 4   cam_col   80000 non-null  int64  \n",
      " 5   class     80000 non-null  object \n",
      " 6   redshift  80000 non-null  float64\n",
      " 7   plate     80000 non-null  object \n",
      " 8   MJD       80000 non-null  int64  \n",
      " 9   ID        80000 non-null  object \n",
      "dtypes: float64(5), int64(2), object(3)\n",
      "memory usage: 6.1+ MB\n"
     ]
    }
   ],
   "source": [
    "df.info()"
   ]
  },
  {
   "cell_type": "markdown",
   "metadata": {},
   "source": [
    "### Data splitting"
   ]
  },
  {
   "cell_type": "markdown",
   "metadata": {},
   "source": [
    "#### Simple random sampling"
   ]
  },
  {
   "cell_type": "code",
   "execution_count": 48,
   "metadata": {},
   "outputs": [
    {
     "data": {
      "text/plain": [
       "(56000, 10)"
      ]
     },
     "execution_count": 48,
     "metadata": {},
     "output_type": "execute_result"
    }
   ],
   "source": [
    "# create train/test split\n",
    "train, test = train_test_split(df, train_size=0.7, random_state=123)\n",
    "\n",
    "# dimensions of training data\n",
    "train.shape"
   ]
  },
  {
   "cell_type": "code",
   "execution_count": 49,
   "metadata": {},
   "outputs": [
    {
     "data": {
      "text/plain": [
       "Index(['alpha', 'delta', 'u', 'z', 'cam_col', 'class', 'redshift', 'plate',\n",
       "       'MJD', 'ID'],\n",
       "      dtype='object')"
      ]
     },
     "execution_count": 49,
     "metadata": {},
     "output_type": "execute_result"
    }
   ],
   "source": [
    "df.columns"
   ]
  },
  {
   "cell_type": "code",
   "execution_count": 50,
   "metadata": {},
   "outputs": [],
   "source": [
    "## test 7:16 PM"
   ]
  },
  {
   "cell_type": "code",
   "execution_count": null,
   "metadata": {},
   "outputs": [],
   "source": []
  },
  {
   "cell_type": "markdown",
   "metadata": {},
   "source": [
    "#### Stratified sampling"
   ]
  },
  {
   "cell_type": "code",
   "execution_count": 51,
   "metadata": {},
   "outputs": [],
   "source": [
    "y = df[\"class\"]\n",
    "train_strat, test_strat = train_test_split(df, train_size=0.3, random_state=123, \n",
    "                                           stratify=y)"
   ]
  },
  {
   "cell_type": "code",
   "execution_count": 52,
   "metadata": {},
   "outputs": [
    {
     "data": {
      "text/plain": [
       "GALAXY    0.594450\n",
       "STAR      0.215938\n",
       "QSO       0.189612\n",
       "Name: class, dtype: float64"
      ]
     },
     "execution_count": 52,
     "metadata": {},
     "output_type": "execute_result"
    }
   ],
   "source": [
    "# response distribution for raw data\n",
    "df[\"class\"].value_counts(normalize=True)"
   ]
  },
  {
   "cell_type": "code",
   "execution_count": 53,
   "metadata": {},
   "outputs": [
    {
     "data": {
      "text/plain": [
       "GALAXY    0.594458\n",
       "STAR      0.215917\n",
       "QSO       0.189625\n",
       "Name: class, dtype: float64"
      ]
     },
     "execution_count": 53,
     "metadata": {},
     "output_type": "execute_result"
    }
   ],
   "source": [
    "train_strat[\"class\"].value_counts(normalize=True)"
   ]
  },
  {
   "cell_type": "code",
   "execution_count": 54,
   "metadata": {},
   "outputs": [
    {
     "data": {
      "text/plain": [
       "GALAXY    0.594446\n",
       "STAR      0.215946\n",
       "QSO       0.189607\n",
       "Name: class, dtype: float64"
      ]
     },
     "execution_count": 54,
     "metadata": {},
     "output_type": "execute_result"
    }
   ],
   "source": [
    "test_strat[\"class\"].value_counts(normalize=True)"
   ]
  },
  {
   "cell_type": "markdown",
   "metadata": {},
   "source": [
    "#### Data imbalances"
   ]
  },
  {
   "cell_type": "code",
   "execution_count": null,
   "metadata": {},
   "outputs": [],
   "source": []
  }
 ],
 "metadata": {
  "interpreter": {
   "hash": "d56e20087258be1dae39aa9f194b8314ac315bc35be12cc01beab0d61256e8ed"
  },
  "kernelspec": {
   "display_name": "Python 3.10.1 64-bit",
   "language": "python",
   "name": "python3"
  },
  "language_info": {
   "codemirror_mode": {
    "name": "ipython",
    "version": 3
   },
   "file_extension": ".py",
   "mimetype": "text/x-python",
   "name": "python",
   "nbconvert_exporter": "python",
   "pygments_lexer": "ipython3",
   "version": "3.9.7"
  },
  "orig_nbformat": 4
 },
 "nbformat": 4,
 "nbformat_minor": 2
}
